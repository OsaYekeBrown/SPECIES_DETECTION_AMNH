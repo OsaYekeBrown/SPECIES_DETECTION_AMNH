{
 "cells": [
  {
   "cell_type": "markdown",
   "metadata": {},
   "source": [
    "# Birds, dinosaurs, reptiles, and mammals (oh my)\n",
    "\n",
    "We don't have data on cerebrum size for most organisms, but we can apply machine learning to body mass and brain volume values to classify organisms into birds, dinosaurs, reptiles, and mammals.\n",
    "\n",
    "## Import libraries and data\n",
    "\n",
    "Import the libraries you need to build a decision tree and read the bird_dino_gator.csv file into a dataframe. How many rows does the data have?"
   ]
  },
  {
   "cell_type": "code",
   "execution_count": 1,
   "metadata": {},
   "outputs": [],
   "source": [
    "import pandas as pd\n",
    "import matplotlib.pyplot as plt\n",
    "import numpy as np\n",
    "import pydotplus\n",
    "from sklearn.datasets import load_iris\n",
    "from sklearn.tree import export_graphviz\n",
    "import graphviz\n",
    "import collections\n",
    "import pandas as pd\n",
    "import numpy as np\n",
    "import matplotlib.pyplot as plt\n",
    "import sklearn as tree \n",
    "from sklearn import neighbors \n",
    "from sklearn import datasets\n",
    "from sklearn import metrics\n",
    "from sklearn.model_selection import train_test_split\n",
    "from sklearn import tree\n",
    "import matplotlib as mpl"
   ]
  },
  {
   "cell_type": "code",
   "execution_count": 2,
   "metadata": {},
   "outputs": [],
   "source": [
    "# READ CSV\n",
    "df = pd.read_csv(\"bird_mammal_dino_reptile.csv\")"
   ]
  },
  {
   "cell_type": "code",
   "execution_count": 3,
   "metadata": {},
   "outputs": [
    {
     "name": "stderr",
     "output_type": "stream",
     "text": [
      "/Users/brownscholar/anaconda3/lib/python3.7/site-packages/pandas/core/indexing.py:190: SettingWithCopyWarning: \n",
      "A value is trying to be set on a copy of a slice from a DataFrame\n",
      "\n",
      "See the caveats in the documentation: http://pandas.pydata.org/pandas-docs/stable/indexing.html#indexing-view-versus-copy\n",
      "  self._setitem_with_indexer(indexer, value)\n"
     ]
    }
   ],
   "source": [
    "df[\"Species Type\"].loc[df[\"Species Type\"]==\"B\"]= 0\n",
    "df[\"Species Type\"].loc[df[\"Species Type\"]==\"D\"]= 1\n",
    "df[\"Species Type\"].loc[df[\"Species Type\"]==\"R\"]= 2\n",
    "df[\"Species Type\"].loc[df[\"Species Type\"]==\"M\"]= 3"
   ]
  },
  {
   "cell_type": "markdown",
   "metadata": {},
   "source": [
    "Convert the dataframe to a numpy array. (Note, we are not going to calculate a brain to body mass ratio here, we are just going to use these two values as our features for each species.)"
   ]
  },
  {
   "cell_type": "code",
   "execution_count": 4,
   "metadata": {},
   "outputs": [],
   "source": [
    "#CONVERT TO A NUMPY ARRAY \n",
    "df_array = df.to_numpy()"
   ]
  },
  {
   "cell_type": "code",
   "execution_count": 28,
   "metadata": {},
   "outputs": [
    {
     "data": {
      "text/html": [
       "<div>\n",
       "<style scoped>\n",
       "    .dataframe tbody tr th:only-of-type {\n",
       "        vertical-align: middle;\n",
       "    }\n",
       "\n",
       "    .dataframe tbody tr th {\n",
       "        vertical-align: top;\n",
       "    }\n",
       "\n",
       "    .dataframe thead th {\n",
       "        text-align: right;\n",
       "    }\n",
       "</style>\n",
       "<table border=\"1\" class=\"dataframe\">\n",
       "  <thead>\n",
       "    <tr style=\"text-align: right;\">\n",
       "      <th></th>\n",
       "      <th>Species Type</th>\n",
       "      <th>Genus</th>\n",
       "      <th>Species</th>\n",
       "      <th>Brain mass (g)</th>\n",
       "      <th>Body mass (g)</th>\n",
       "    </tr>\n",
       "  </thead>\n",
       "  <tbody>\n",
       "    <tr>\n",
       "      <th>0</th>\n",
       "      <td>3</td>\n",
       "      <td>Sciurus</td>\n",
       "      <td>aberti</td>\n",
       "      <td>6.850</td>\n",
       "      <td>626.5</td>\n",
       "    </tr>\n",
       "    <tr>\n",
       "      <th>1</th>\n",
       "      <td>3</td>\n",
       "      <td>Cynomops</td>\n",
       "      <td>abrasus</td>\n",
       "      <td>0.418</td>\n",
       "      <td>33.3</td>\n",
       "    </tr>\n",
       "    <tr>\n",
       "      <th>2</th>\n",
       "      <td>3</td>\n",
       "      <td>Myoprocta</td>\n",
       "      <td>acouchy</td>\n",
       "      <td>9.900</td>\n",
       "      <td>782.0</td>\n",
       "    </tr>\n",
       "    <tr>\n",
       "      <th>3</th>\n",
       "      <td>3</td>\n",
       "      <td>Rhinolophus</td>\n",
       "      <td>acuminatus</td>\n",
       "      <td>0.302</td>\n",
       "      <td>12.1</td>\n",
       "    </tr>\n",
       "    <tr>\n",
       "      <th>4</th>\n",
       "      <td>3</td>\n",
       "      <td>Lagenorhynchus</td>\n",
       "      <td>acutus</td>\n",
       "      <td>1200.000</td>\n",
       "      <td>120000.0</td>\n",
       "    </tr>\n",
       "  </tbody>\n",
       "</table>\n",
       "</div>"
      ],
      "text/plain": [
       "   Species Type           Genus     Species  Brain mass (g)  Body mass (g)\n",
       "0             3         Sciurus      aberti           6.850          626.5\n",
       "1             3        Cynomops     abrasus           0.418           33.3\n",
       "2             3       Myoprocta     acouchy           9.900          782.0\n",
       "3             3     Rhinolophus  acuminatus           0.302           12.1\n",
       "4             3  Lagenorhynchus      acutus        1200.000       120000.0"
      ]
     },
     "execution_count": 28,
     "metadata": {},
     "output_type": "execute_result"
    }
   ],
   "source": [
    "df.head()"
   ]
  },
  {
   "cell_type": "code",
   "execution_count": 5,
   "metadata": {},
   "outputs": [],
   "source": [
    "x = df_array[:,3:5] #Brain mass (g) + #Body mass (g)\n",
    "#x = df_array[:,4] #Body mass (g)\n",
    "y = df_array[:,0] #Species Type"
   ]
  },
  {
   "cell_type": "code",
   "execution_count": 6,
   "metadata": {},
   "outputs": [
    {
     "name": "stdout",
     "output_type": "stream",
     "text": [
      "[[6.85 626.5]\n",
      " [0.418 33.3]\n",
      " [9.9 782.0]\n",
      " ...\n",
      " [140000.0 69.52]\n",
      " [5000000.0 82.88]\n",
      " [7000000.0 97.56]]\n",
      "[3 3 3 ... 1 1 1]\n"
     ]
    }
   ],
   "source": [
    "print(x)\n",
    "print(y)"
   ]
  },
  {
   "cell_type": "markdown",
   "metadata": {},
   "source": [
    "## Training/test data\n",
    "\n",
    "We are going to split up our dataset into training data, that we will use to train the algorithm, and test data, that we will use to see how well the algorithm performs like we did with the k-nearest neighbors algorithm. From sklearn.model_selection, import train_test_split. Divide the data into 80% training and 20% test data:"
   ]
  },
  {
   "cell_type": "code",
   "execution_count": 7,
   "metadata": {},
   "outputs": [],
   "source": [
    "X_train, X_test, y_train, y_test = train_test_split(x, y, test_size=0.2) "
   ]
  },
  {
   "cell_type": "markdown",
   "metadata": {},
   "source": [
    "## Create decision tree\n",
    "\n",
    "Create a decision tree classifier to classify the brains as birds, dinosaurs, or reptiles based on the brain to body mass ratio and cerebrum to whole brain ratio. Make sure to run your decision tree only on the training data (not the test data)."
   ]
  },
  {
   "cell_type": "code",
   "execution_count": 8,
   "metadata": {},
   "outputs": [],
   "source": [
    "clf = tree.DecisionTreeClassifier()"
   ]
  },
  {
   "cell_type": "code",
   "execution_count": 9,
   "metadata": {},
   "outputs": [],
   "source": [
    "y_train = y_train.astype('int')\n",
    "y_test = y_test.astype('int')"
   ]
  },
  {
   "cell_type": "code",
   "execution_count": 10,
   "metadata": {},
   "outputs": [
    {
     "data": {
      "text/plain": [
       "DecisionTreeClassifier(class_weight=None, criterion='gini', max_depth=None,\n",
       "                       max_features=None, max_leaf_nodes=None,\n",
       "                       min_impurity_decrease=0.0, min_impurity_split=None,\n",
       "                       min_samples_leaf=1, min_samples_split=2,\n",
       "                       min_weight_fraction_leaf=0.0, presort=False,\n",
       "                       random_state=None, splitter='best')"
      ]
     },
     "execution_count": 10,
     "metadata": {},
     "output_type": "execute_result"
    }
   ],
   "source": [
    "clf.fit(X_train,y_train)"
   ]
  },
  {
   "cell_type": "markdown",
   "metadata": {},
   "source": [
    "## Testing\n",
    "\n",
    "We can evaluate our decision tree on our testing data."
   ]
  },
  {
   "cell_type": "code",
   "execution_count": 15,
   "metadata": {},
   "outputs": [],
   "source": [
    "ypredtree1binarypred = clf.predict_proba(X_test) #for tree"
   ]
  },
  {
   "cell_type": "markdown",
   "metadata": {},
   "source": [
    "([[1. 0.]]) means the algorithm is certain it's a |bird|, a result of array([[0. 1.]]) means the algorithm is certain it's a |dinosaur|, a result of ([0. 0. 1. 0.]) means its a |mammal|, and an output of ([[0. 0. 0. 1.]]) means its a |reptile|."
   ]
  },
  {
   "cell_type": "code",
   "execution_count": 18,
   "metadata": {},
   "outputs": [],
   "source": [
    "ypredtree1metrics = clf.predict(X_test) #for metrics (in KNN)\n",
    "#print(ypredtree1metrics)\n",
    "#print(y_test)\n",
    "#print(ypredtree1binarypred)"
   ]
  },
  {
   "cell_type": "code",
   "execution_count": 19,
   "metadata": {},
   "outputs": [
    {
     "name": "stdout",
     "output_type": "stream",
     "text": [
      "Computer's Decision:  [0 3 0 ... 0 0 0]\n",
      "(Binary) Decision     [[1. 0. 0. 0.]\n",
      " [0. 0. 0. 1.]\n",
      " [1. 0. 0. 0.]\n",
      " ...\n",
      " [1. 0. 0. 0.]\n",
      " [1. 0. 0. 0.]\n",
      " [1. 0. 0. 0.]]\n",
      "Actual Answers:       [0 3 0 ... 0 3 0]\n"
     ]
    }
   ],
   "source": [
    "print(\"Computer's Decision: \", ypredtree1metrics)\n",
    "print(\"(Binary) Decision    \", ypredtree1binarypred)\n",
    "print(\"Actual Answers:      \", y_test)"
   ]
  },
  {
   "cell_type": "markdown",
   "metadata": {},
   "source": [
    "Calculate the accuracy of the decision tree by importing |metrics| from |sklearn| and then finding the |accuracy score|."
   ]
  },
  {
   "cell_type": "code",
   "execution_count": 20,
   "metadata": {},
   "outputs": [
    {
     "name": "stdout",
     "output_type": "stream",
     "text": [
      "Accuracy: 0.8190114068441064\n"
     ]
    }
   ],
   "source": [
    "print(\"Accuracy:\", metrics.accuracy_score(y_test, ypredtree1metrics))"
   ]
  },
  {
   "cell_type": "markdown",
   "metadata": {},
   "source": [
    "# Your Ugly Tree"
   ]
  },
  {
   "cell_type": "code",
   "execution_count": 25,
   "metadata": {},
   "outputs": [
    {
     "data": {
      "image/png": "[encoded data removed]",
      "text/plain": [
       "<Figure size 432x288 with 1 Axes>"
      ]
     },
     "metadata": {
      "needs_background": "light"
     },
     "output_type": "display_data"
    }
   ],
   "source": [
    "tree.plot_tree(clf, class_names= \"Bird\" \"Dinosaur\" \"Mammal\" \"Reptile\")\n",
    "plt.show()"
   ]
  },
  {
   "cell_type": "markdown",
   "metadata": {},
   "source": [
    "## Beautification\n",
    "\n",
    "If time permits, play around with changing the appearance of your decision tree and plotting a decision surface!"
   ]
  },
  {
   "cell_type": "code",
   "execution_count": 43,
   "metadata": {},
   "outputs": [
    {
     "name": "stdout",
     "output_type": "stream",
     "text": [
      "dot: graph is too large for cairo-renderer bitmaps. Scaling by 0.819359 to fit\n",
      "\n"
     ]
    },
    {
     "data": {
      "text/plain": [
       "True"
      ]
     },
     "execution_count": 43,
     "metadata": {},
     "output_type": "execute_result"
    }
   ],
   "source": [
    "#tree.plot_tree(d_b_tree, class_names= \"Bird\" \"Dino\")\n",
    "#plt.show()\n",
    "\n",
    "# Visualize data\n",
    "data_feature_names = [\"Brain mass (g)\", \"Body mass (g)\"]\n",
    "dot_data = tree.export_graphviz(clf,feature_names=data_feature_names,\n",
    "                                out_file=None,\n",
    "                                filled=True,\n",
    "                                rounded=True)\n",
    "graph = pydotplus.graph_from_dot_data(dot_data)\n",
    "data_class_names = [ 'Bird', 'Dinosaur', 'Mammal', 'Reptile']\n",
    "colors = ('cyan', 'white', 'pink', \"green\", \"grey\")\n",
    "#[\"true color\", \"false color\"]\n",
    "edges = collections.defaultdict(list)\n",
    "\n",
    "for edge in graph.get_edge_list():\n",
    "    edges[edge.get_source()].append(int(edge.get_destination()))\n",
    "\n",
    "for edge in edges:\n",
    "    edges[edge].sort()    \n",
    "    for i in range(2):\n",
    "        dest = graph.get_node(str(edges[edge][i]))[0]\n",
    "        dest.set_fillcolor(colors[i])\n",
    "\n",
    "nodes = graph.get_node_list()\n",
    "for node in nodes:\n",
    "    if node.get_name() not in ('node', 'edge'):\n",
    "        values = clf.tree_.value[int(node.get_name())][0]\n",
    "        #color only nodes where only one class is present\n",
    "        if max(values) == sum(values):    \n",
    "            node.set_fillcolor(colors[np.argmax(values)])\n",
    "        #mixed nodes get the default color\n",
    "        else:\n",
    "            node.set_fillcolor(colors[-1])\n",
    "\n",
    "graph.write_png('birds_dinos_reptiles_mammals_tree.png')"
   ]
  }
 ],
 "metadata": {
  "kernelspec": {
   "display_name": "Python 3",
   "language": "python",
   "name": "python3"
  },
  "language_info": {
   "codemirror_mode": {
    "name": "ipython",
    "version": 3
   },
   "file_extension": ".py",
   "mimetype": "text/x-python",
   "name": "python",
   "nbconvert_exporter": "python",
   "pygments_lexer": "ipython3",
   "version": "3.7.3"
  }
 },
 "nbformat": 4,
 "nbformat_minor": 2
}
